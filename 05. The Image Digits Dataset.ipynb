{
 "cells": [
  {
   "cell_type": "markdown",
   "id": "b28fa226",
   "metadata": {},
   "source": [
    "# This notebook provides a quick look at the Image Digits Dataset. It consists of two sections."
   ]
  },
  {
   "cell_type": "markdown",
   "id": "geological-authorization",
   "metadata": {},
   "source": [
    "\n",
    "## 1. Import the required libraries\n",
    "\n",
    "### This tutorial uses the following Python libraries:\n",
    "\n",
    "#### Scikit-learn\n",
    "\n",
    "> <div style=\"text-align: justify\"> <a href=\"https://scikit-learn.org/stable/modules/generated/sklearn.datasets.load_iris.html#sklearn.datasets.load_iris\">Scikit-learn</a> is a comprehensive library for machine learning in Python. It provides a variety of machine learning algorithms, as well as tools for evaluating and tuning models. Scikit-learn is a popular choice for machine learning tasks, such as classification, regression, and clustering. In this notebook, we use it access our Image Digits Dataset. </div>\n",
    "\n",
    "#### 2. Matplotlib\n",
    "\n",
    "> <div style=\"text-align: justify\"> <a href=\"https://matplotlib.org/stable/gallery/index.html\">Matplotlib</a> is a comprehensive library for plotting graphs in Python. It provides a variety of plotting functions, as well as tools for customizing plots. Matplotlib is a powerful tool for visualizing data and communicating the results of analyses. </div>"
   ]
  },
  {
   "cell_type": "code",
   "execution_count": 1,
   "id": "opposed-sewing",
   "metadata": {},
   "outputs": [],
   "source": [
    "# Import the Scikit-learn datasets module and Matplotlib library.\n",
    "\n",
    "from sklearn import datasets\n",
    "import matplotlib.pyplot as plt"
   ]
  },
  {
   "cell_type": "markdown",
   "id": "olive-commodity",
   "metadata": {},
   "source": [
    "## 2. Getting to know the Image Digits Dataset"
   ]
  },
  {
   "cell_type": "code",
   "execution_count": 2,
   "id": "rolled-manhattan",
   "metadata": {},
   "outputs": [],
   "source": [
    "# Import the Image Digits dataset from the scikit-learn library.\n",
    "\n",
    "data = datasets.load_digits()"
   ]
  },
  {
   "cell_type": "code",
   "execution_count": 3,
   "id": "breeding-circle",
   "metadata": {},
   "outputs": [
    {
     "data": {
      "text/plain": [
       "dict_keys(['data', 'target', 'frame', 'feature_names', 'target_names', 'images', 'DESCR'])"
      ]
     },
     "execution_count": 3,
     "metadata": {},
     "output_type": "execute_result"
    }
   ],
   "source": [
    "# Print the keys of the `data` dictionary. \n",
    "\n",
    "data.keys()"
   ]
  },
  {
   "cell_type": "code",
   "execution_count": 4,
   "id": "selected-residence",
   "metadata": {},
   "outputs": [
    {
     "name": "stdout",
     "output_type": "stream",
     "text": [
      ".. _digits_dataset:\n",
      "\n",
      "Optical recognition of handwritten digits dataset\n",
      "--------------------------------------------------\n",
      "\n",
      "**Data Set Characteristics:**\n",
      "\n",
      "    :Number of Instances: 1797\n",
      "    :Number of Attributes: 64\n",
      "    :Attribute Information: 8x8 image of integer pixels in the range 0..16.\n",
      "    :Missing Attribute Values: None\n",
      "    :Creator: E. Alpaydin (alpaydin '@' boun.edu.tr)\n",
      "    :Date: July; 1998\n",
      "\n",
      "This is a copy of the test set of the UCI ML hand-written digits datasets\n",
      "https://archive.ics.uci.edu/ml/datasets/Optical+Recognition+of+Handwritten+Digits\n",
      "\n",
      "The data set contains images of hand-written digits: 10 classes where\n",
      "each class refers to a digit.\n",
      "\n",
      "Preprocessing programs made available by NIST were used to extract\n",
      "normalized bitmaps of handwritten digits from a preprinted form. From a\n",
      "total of 43 people, 30 contributed to the training set and different 13\n",
      "to the test set. 32x32 bitmaps are divided into nonoverlapping blocks of\n",
      "4x4 and the number of on pixels are counted in each block. This generates\n",
      "an input matrix of 8x8 where each element is an integer in the range\n",
      "0..16. This reduces dimensionality and gives invariance to small\n",
      "distortions.\n",
      "\n",
      "For info on NIST preprocessing routines, see M. D. Garris, J. L. Blue, G.\n",
      "T. Candela, D. L. Dimmick, J. Geist, P. J. Grother, S. A. Janet, and C.\n",
      "L. Wilson, NIST Form-Based Handprint Recognition System, NISTIR 5469,\n",
      "1994.\n",
      "\n",
      ".. topic:: References\n",
      "\n",
      "  - C. Kaynak (1995) Methods of Combining Multiple Classifiers and Their\n",
      "    Applications to Handwritten Digit Recognition, MSc Thesis, Institute of\n",
      "    Graduate Studies in Science and Engineering, Bogazici University.\n",
      "  - E. Alpaydin, C. Kaynak (1998) Cascading Classifiers, Kybernetika.\n",
      "  - Ken Tang and Ponnuthurai N. Suganthan and Xi Yao and A. Kai Qin.\n",
      "    Linear dimensionalityreduction using relevance weighted LDA. School of\n",
      "    Electrical and Electronic Engineering Nanyang Technological University.\n",
      "    2005.\n",
      "  - Claudio Gentile. A New Approximate Maximal Margin Classification\n",
      "    Algorithm. NIPS. 2000.\n",
      "\n"
     ]
    }
   ],
   "source": [
    "# Print a description of the Digits dataset.\n",
    "\n",
    "print(data.DESCR)"
   ]
  },
  {
   "cell_type": "code",
   "execution_count": 5,
   "id": "grave-dating",
   "metadata": {},
   "outputs": [
    {
     "name": "stdout",
     "output_type": "stream",
     "text": [
      "['pixel_0_0', 'pixel_0_1', 'pixel_0_2', 'pixel_0_3', 'pixel_0_4', 'pixel_0_5', 'pixel_0_6', 'pixel_0_7', 'pixel_1_0', 'pixel_1_1', 'pixel_1_2', 'pixel_1_3', 'pixel_1_4', 'pixel_1_5', 'pixel_1_6', 'pixel_1_7', 'pixel_2_0', 'pixel_2_1', 'pixel_2_2', 'pixel_2_3', 'pixel_2_4', 'pixel_2_5', 'pixel_2_6', 'pixel_2_7', 'pixel_3_0', 'pixel_3_1', 'pixel_3_2', 'pixel_3_3', 'pixel_3_4', 'pixel_3_5', 'pixel_3_6', 'pixel_3_7', 'pixel_4_0', 'pixel_4_1', 'pixel_4_2', 'pixel_4_3', 'pixel_4_4', 'pixel_4_5', 'pixel_4_6', 'pixel_4_7', 'pixel_5_0', 'pixel_5_1', 'pixel_5_2', 'pixel_5_3', 'pixel_5_4', 'pixel_5_5', 'pixel_5_6', 'pixel_5_7', 'pixel_6_0', 'pixel_6_1', 'pixel_6_2', 'pixel_6_3', 'pixel_6_4', 'pixel_6_5', 'pixel_6_6', 'pixel_6_7', 'pixel_7_0', 'pixel_7_1', 'pixel_7_2', 'pixel_7_3', 'pixel_7_4', 'pixel_7_5', 'pixel_7_6', 'pixel_7_7']\n"
     ]
    }
   ],
   "source": [
    "# Print the names of the features in the Digits dataset.\n",
    "\n",
    "print(data.feature_names)"
   ]
  },
  {
   "cell_type": "code",
   "execution_count": 6,
   "id": "detailed-pride",
   "metadata": {},
   "outputs": [
    {
     "name": "stdout",
     "output_type": "stream",
     "text": [
      "[[ 0.  0.  5. ...  0.  0.  0.]\n",
      " [ 0.  0.  0. ... 10.  0.  0.]\n",
      " [ 0.  0.  0. ... 16.  9.  0.]\n",
      " ...\n",
      " [ 0.  0.  1. ...  6.  0.  0.]\n",
      " [ 0.  0.  2. ... 12.  0.  0.]\n",
      " [ 0.  0. 10. ... 12.  1.  0.]]\n"
     ]
    }
   ],
   "source": [
    "# Print the features of the Digits dataset.\n",
    "\n",
    "print(data.data)"
   ]
  },
  {
   "cell_type": "code",
   "execution_count": 7,
   "id": "nearby-content",
   "metadata": {},
   "outputs": [
    {
     "name": "stdout",
     "output_type": "stream",
     "text": [
      "[0 1 2 3 4 5 6 7 8 9]\n"
     ]
    }
   ],
   "source": [
    "# Print the target values of the Digits dataset.\n",
    "\n",
    "print(data.target_names)"
   ]
  },
  {
   "cell_type": "code",
   "execution_count": 8,
   "id": "incorporated-territory",
   "metadata": {},
   "outputs": [
    {
     "name": "stdout",
     "output_type": "stream",
     "text": [
      "(1797, 64)\n"
     ]
    }
   ],
   "source": [
    "# Print the shape of the target array.\n",
    "\n",
    "print(data.data.shape)"
   ]
  },
  {
   "cell_type": "code",
   "execution_count": 9,
   "id": "025c46cf",
   "metadata": {},
   "outputs": [
    {
     "name": "stdout",
     "output_type": "stream",
     "text": [
      "[[[ 0.  0.  5. ...  1.  0.  0.]\n",
      "  [ 0.  0. 13. ... 15.  5.  0.]\n",
      "  [ 0.  3. 15. ... 11.  8.  0.]\n",
      "  ...\n",
      "  [ 0.  4. 11. ... 12.  7.  0.]\n",
      "  [ 0.  2. 14. ... 12.  0.  0.]\n",
      "  [ 0.  0.  6. ...  0.  0.  0.]]\n",
      "\n",
      " [[ 0.  0.  0. ...  5.  0.  0.]\n",
      "  [ 0.  0.  0. ...  9.  0.  0.]\n",
      "  [ 0.  0.  3. ...  6.  0.  0.]\n",
      "  ...\n",
      "  [ 0.  0.  1. ...  6.  0.  0.]\n",
      "  [ 0.  0.  1. ...  6.  0.  0.]\n",
      "  [ 0.  0.  0. ... 10.  0.  0.]]\n",
      "\n",
      " [[ 0.  0.  0. ... 12.  0.  0.]\n",
      "  [ 0.  0.  3. ... 14.  0.  0.]\n",
      "  [ 0.  0.  8. ... 16.  0.  0.]\n",
      "  ...\n",
      "  [ 0.  9. 16. ...  0.  0.  0.]\n",
      "  [ 0.  3. 13. ... 11.  5.  0.]\n",
      "  [ 0.  0.  0. ... 16.  9.  0.]]\n",
      "\n",
      " ...\n",
      "\n",
      " [[ 0.  0.  1. ...  1.  0.  0.]\n",
      "  [ 0.  0. 13. ...  2.  1.  0.]\n",
      "  [ 0.  0. 16. ... 16.  5.  0.]\n",
      "  ...\n",
      "  [ 0.  0. 16. ... 15.  0.  0.]\n",
      "  [ 0.  0. 15. ... 16.  0.  0.]\n",
      "  [ 0.  0.  2. ...  6.  0.  0.]]\n",
      "\n",
      " [[ 0.  0.  2. ...  0.  0.  0.]\n",
      "  [ 0.  0. 14. ... 15.  1.  0.]\n",
      "  [ 0.  4. 16. ... 16.  7.  0.]\n",
      "  ...\n",
      "  [ 0.  0.  0. ... 16.  2.  0.]\n",
      "  [ 0.  0.  4. ... 16.  2.  0.]\n",
      "  [ 0.  0.  5. ... 12.  0.  0.]]\n",
      "\n",
      " [[ 0.  0. 10. ...  1.  0.  0.]\n",
      "  [ 0.  2. 16. ...  1.  0.  0.]\n",
      "  [ 0.  0. 15. ... 15.  0.  0.]\n",
      "  ...\n",
      "  [ 0.  4. 16. ... 16.  6.  0.]\n",
      "  [ 0.  8. 16. ... 16.  8.  0.]\n",
      "  [ 0.  1.  8. ... 12.  1.  0.]]]\n"
     ]
    }
   ],
   "source": [
    "# Prints the images (data points) in the dataset.\n",
    "\n",
    "print(data.images)"
   ]
  },
  {
   "cell_type": "code",
   "execution_count": 10,
   "id": "26ec5aa2",
   "metadata": {},
   "outputs": [
    {
     "data": {
      "text/plain": [
       "<Figure size 640x480 with 0 Axes>"
      ]
     },
     "metadata": {},
     "output_type": "display_data"
    },
    {
     "data": {
      "image/png": "[encoded data removed]",
      "text/plain": [
       "<Figure size 480x480 with 1 Axes>"
      ]
     },
     "metadata": {},
     "output_type": "display_data"
    }
   ],
   "source": [
    "# Display digit 0.\n",
    "\n",
    "# Sets the color map of Matplotlib to grayscale.\n",
    "plt.gray()\n",
    "\n",
    "# Displays a matrix representation of the first image in the dataset using grayscale colors.\n",
    "plt.matshow(data.images[0]);"
   ]
  },
  {
   "cell_type": "code",
   "execution_count": 11,
   "id": "d9e8dd61",
   "metadata": {},
   "outputs": [
    {
     "data": {
      "text/plain": [
       "<Figure size 640x480 with 0 Axes>"
      ]
     },
     "metadata": {},
     "output_type": "display_data"
    },
    {
     "data": {
      "image/png": "[encoded data removed]",
      "text/plain": [
       "<Figure size 480x480 with 1 Axes>"
      ]
     },
     "metadata": {},
     "output_type": "display_data"
    }
   ],
   "source": [
    "# Display digit 4.\n",
    "\n",
    "# Sets the color map of Matplotlib to grayscale.\n",
    "plt.gray()\n",
    "\n",
    "# Displays a matrix representation of the hundredth image in the dataset using grayscale colors.\n",
    "plt.matshow(data.images[100]);"
   ]
  },
  {
   "cell_type": "markdown",
   "id": "1eb3a39a",
   "metadata": {},
   "source": [
    "### Review Questions\n",
    "\n",
    "#### Q1. What is the purpose of this notebook? \n",
    "Answer: The purpose of this notebook is to load the Digits dataset using the scikit-learn library, access and print various components of the loaded dataset.\n",
    "\n",
    "#### Q2. How is the Digits dataset loaded into the variable \"data\"?\n",
    "Answer: The Digits dataset is loaded into the variable \"data\" using the scikit-learn library's <b>datasets.load_digits()</b> function.\n",
    "\n",
    "#### Q3. Is the Digits dataset from the Scikit-learn library grayscale or RGB?\n",
    "Answer: The Digits dataset from Scikit-learn's datasets module is a <b>grayscale dataset</b>.\n",
    "\n",
    "#### Q4. How many samples are present in the dataset, and how many features are associated with each sample?\n",
    "Answer: The Digits dataset contains <b>1797 samples</b> and <b>64 features</b> associated with each sample.\n",
    "\n",
    "Each sample corresponds to a single 8x8 hand-written digit image, and there are a total of 1797 hand-written digits in the dataset. So, to summarize:\n",
    "\n",
    "* Number of samples: 1797\n",
    "* Number of features per sample: 64 \n",
    "\n",
    "#### Q5. How many unique classes are there in the dataset's target values?\n",
    "Answer: The Digits dataset's target values represent the digits from 0 to 9. There are ten unique classes in the dataset's target values:\n",
    "\n",
    "1. <b>0</b>\n",
    "2. <b>1</b>\n",
    "3. <b>2</b>\n",
    "4. <b>3</b>\n",
    "5. <b>4</b>\n",
    "6. <b>5</b>\n",
    "7. <b>6</b>\n",
    "8. <b>7</b>\n",
    "9. <b>8</b>\n",
    "10. <b>9</b>\n",
    "\n",
    "These ten classes correspond to the ten digits that the dataset includes.\n",
    "\n",
    "<img src = \"https://miro.medium.com/v2/resize:fit:1200/1*v6Nn_zj8W0qsnk9Cc6Di_g.png\" width = 750, align = \"left\"></a>"
   ]
  },
  {
   "cell_type": "code",
   "execution_count": null,
   "id": "05048a0b",
   "metadata": {},
   "outputs": [],
   "source": []
  }
 ],
 "metadata": {
  "kernelspec": {
   "display_name": "Python 3 (ipykernel)",
   "language": "python",
   "name": "python3"
  },
  "language_info": {
   "codemirror_mode": {
    "name": "ipython",
    "version": 3
   },
   "file_extension": ".py",
   "mimetype": "text/x-python",
   "name": "python",
   "nbconvert_exporter": "python",
   "pygments_lexer": "ipython3",
   "version": "3.9.16"
  }
 },
 "nbformat": 4,
 "nbformat_minor": 5
}
